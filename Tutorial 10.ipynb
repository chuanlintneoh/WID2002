{
  "nbformat": 4,
  "nbformat_minor": 0,
  "metadata": {
    "colab": {
      "provenance": []
    },
    "kernelspec": {
      "name": "python3",
      "display_name": "Python 3"
    },
    "language_info": {
      "name": "python"
    }
  },
  "cells": [
    {
      "cell_type": "markdown",
      "source": [
        "Name: Tneoh Chuan Lin\n",
        "\n",
        "Matrix_no: 22004808"
      ],
      "metadata": {
        "id": "wdQoUwt-NkWb"
      }
    },
    {
      "cell_type": "code",
      "execution_count": 1,
      "metadata": {
        "id": "_m7yEXmMNb_G",
        "colab": {
          "base_uri": "https://localhost:8080/",
          "height": 206
        },
        "outputId": "998af772-b699-4c8b-c843-03b1486e5d5f"
      },
      "outputs": [
        {
          "output_type": "execute_result",
          "data": {
            "text/plain": [
              "   f1  f2  f3  f4\n",
              "0   1   2   3   4\n",
              "1   5   5   6   7\n",
              "2   1   4   2   3\n",
              "3   5   3   2   1\n",
              "4   8   1   2   2"
            ],
            "text/html": [
              "\n",
              "  <div id=\"df-b67790d6-8d89-4825-8076-7f1d88b95587\" class=\"colab-df-container\">\n",
              "    <div>\n",
              "<style scoped>\n",
              "    .dataframe tbody tr th:only-of-type {\n",
              "        vertical-align: middle;\n",
              "    }\n",
              "\n",
              "    .dataframe tbody tr th {\n",
              "        vertical-align: top;\n",
              "    }\n",
              "\n",
              "    .dataframe thead th {\n",
              "        text-align: right;\n",
              "    }\n",
              "</style>\n",
              "<table border=\"1\" class=\"dataframe\">\n",
              "  <thead>\n",
              "    <tr style=\"text-align: right;\">\n",
              "      <th></th>\n",
              "      <th>f1</th>\n",
              "      <th>f2</th>\n",
              "      <th>f3</th>\n",
              "      <th>f4</th>\n",
              "    </tr>\n",
              "  </thead>\n",
              "  <tbody>\n",
              "    <tr>\n",
              "      <th>0</th>\n",
              "      <td>1</td>\n",
              "      <td>2</td>\n",
              "      <td>3</td>\n",
              "      <td>4</td>\n",
              "    </tr>\n",
              "    <tr>\n",
              "      <th>1</th>\n",
              "      <td>5</td>\n",
              "      <td>5</td>\n",
              "      <td>6</td>\n",
              "      <td>7</td>\n",
              "    </tr>\n",
              "    <tr>\n",
              "      <th>2</th>\n",
              "      <td>1</td>\n",
              "      <td>4</td>\n",
              "      <td>2</td>\n",
              "      <td>3</td>\n",
              "    </tr>\n",
              "    <tr>\n",
              "      <th>3</th>\n",
              "      <td>5</td>\n",
              "      <td>3</td>\n",
              "      <td>2</td>\n",
              "      <td>1</td>\n",
              "    </tr>\n",
              "    <tr>\n",
              "      <th>4</th>\n",
              "      <td>8</td>\n",
              "      <td>1</td>\n",
              "      <td>2</td>\n",
              "      <td>2</td>\n",
              "    </tr>\n",
              "  </tbody>\n",
              "</table>\n",
              "</div>\n",
              "    <div class=\"colab-df-buttons\">\n",
              "\n",
              "  <div class=\"colab-df-container\">\n",
              "    <button class=\"colab-df-convert\" onclick=\"convertToInteractive('df-b67790d6-8d89-4825-8076-7f1d88b95587')\"\n",
              "            title=\"Convert this dataframe to an interactive table.\"\n",
              "            style=\"display:none;\">\n",
              "\n",
              "  <svg xmlns=\"http://www.w3.org/2000/svg\" height=\"24px\" viewBox=\"0 -960 960 960\">\n",
              "    <path d=\"M120-120v-720h720v720H120Zm60-500h600v-160H180v160Zm220 220h160v-160H400v160Zm0 220h160v-160H400v160ZM180-400h160v-160H180v160Zm440 0h160v-160H620v160ZM180-180h160v-160H180v160Zm440 0h160v-160H620v160Z\"/>\n",
              "  </svg>\n",
              "    </button>\n",
              "\n",
              "  <style>\n",
              "    .colab-df-container {\n",
              "      display:flex;\n",
              "      gap: 12px;\n",
              "    }\n",
              "\n",
              "    .colab-df-convert {\n",
              "      background-color: #E8F0FE;\n",
              "      border: none;\n",
              "      border-radius: 50%;\n",
              "      cursor: pointer;\n",
              "      display: none;\n",
              "      fill: #1967D2;\n",
              "      height: 32px;\n",
              "      padding: 0 0 0 0;\n",
              "      width: 32px;\n",
              "    }\n",
              "\n",
              "    .colab-df-convert:hover {\n",
              "      background-color: #E2EBFA;\n",
              "      box-shadow: 0px 1px 2px rgba(60, 64, 67, 0.3), 0px 1px 3px 1px rgba(60, 64, 67, 0.15);\n",
              "      fill: #174EA6;\n",
              "    }\n",
              "\n",
              "    .colab-df-buttons div {\n",
              "      margin-bottom: 4px;\n",
              "    }\n",
              "\n",
              "    [theme=dark] .colab-df-convert {\n",
              "      background-color: #3B4455;\n",
              "      fill: #D2E3FC;\n",
              "    }\n",
              "\n",
              "    [theme=dark] .colab-df-convert:hover {\n",
              "      background-color: #434B5C;\n",
              "      box-shadow: 0px 1px 3px 1px rgba(0, 0, 0, 0.15);\n",
              "      filter: drop-shadow(0px 1px 2px rgba(0, 0, 0, 0.3));\n",
              "      fill: #FFFFFF;\n",
              "    }\n",
              "  </style>\n",
              "\n",
              "    <script>\n",
              "      const buttonEl =\n",
              "        document.querySelector('#df-b67790d6-8d89-4825-8076-7f1d88b95587 button.colab-df-convert');\n",
              "      buttonEl.style.display =\n",
              "        google.colab.kernel.accessAllowed ? 'block' : 'none';\n",
              "\n",
              "      async function convertToInteractive(key) {\n",
              "        const element = document.querySelector('#df-b67790d6-8d89-4825-8076-7f1d88b95587');\n",
              "        const dataTable =\n",
              "          await google.colab.kernel.invokeFunction('convertToInteractive',\n",
              "                                                    [key], {});\n",
              "        if (!dataTable) return;\n",
              "\n",
              "        const docLinkHtml = 'Like what you see? Visit the ' +\n",
              "          '<a target=\"_blank\" href=https://colab.research.google.com/notebooks/data_table.ipynb>data table notebook</a>'\n",
              "          + ' to learn more about interactive tables.';\n",
              "        element.innerHTML = '';\n",
              "        dataTable['output_type'] = 'display_data';\n",
              "        await google.colab.output.renderOutput(dataTable, element);\n",
              "        const docLink = document.createElement('div');\n",
              "        docLink.innerHTML = docLinkHtml;\n",
              "        element.appendChild(docLink);\n",
              "      }\n",
              "    </script>\n",
              "  </div>\n",
              "\n",
              "\n",
              "<div id=\"df-53ba69f8-034e-4a4f-841e-daeb4ef2ee12\">\n",
              "  <button class=\"colab-df-quickchart\" onclick=\"quickchart('df-53ba69f8-034e-4a4f-841e-daeb4ef2ee12')\"\n",
              "            title=\"Suggest charts\"\n",
              "            style=\"display:none;\">\n",
              "\n",
              "<svg xmlns=\"http://www.w3.org/2000/svg\" height=\"24px\"viewBox=\"0 0 24 24\"\n",
              "     width=\"24px\">\n",
              "    <g>\n",
              "        <path d=\"M19 3H5c-1.1 0-2 .9-2 2v14c0 1.1.9 2 2 2h14c1.1 0 2-.9 2-2V5c0-1.1-.9-2-2-2zM9 17H7v-7h2v7zm4 0h-2V7h2v10zm4 0h-2v-4h2v4z\"/>\n",
              "    </g>\n",
              "</svg>\n",
              "  </button>\n",
              "\n",
              "<style>\n",
              "  .colab-df-quickchart {\n",
              "      --bg-color: #E8F0FE;\n",
              "      --fill-color: #1967D2;\n",
              "      --hover-bg-color: #E2EBFA;\n",
              "      --hover-fill-color: #174EA6;\n",
              "      --disabled-fill-color: #AAA;\n",
              "      --disabled-bg-color: #DDD;\n",
              "  }\n",
              "\n",
              "  [theme=dark] .colab-df-quickchart {\n",
              "      --bg-color: #3B4455;\n",
              "      --fill-color: #D2E3FC;\n",
              "      --hover-bg-color: #434B5C;\n",
              "      --hover-fill-color: #FFFFFF;\n",
              "      --disabled-bg-color: #3B4455;\n",
              "      --disabled-fill-color: #666;\n",
              "  }\n",
              "\n",
              "  .colab-df-quickchart {\n",
              "    background-color: var(--bg-color);\n",
              "    border: none;\n",
              "    border-radius: 50%;\n",
              "    cursor: pointer;\n",
              "    display: none;\n",
              "    fill: var(--fill-color);\n",
              "    height: 32px;\n",
              "    padding: 0;\n",
              "    width: 32px;\n",
              "  }\n",
              "\n",
              "  .colab-df-quickchart:hover {\n",
              "    background-color: var(--hover-bg-color);\n",
              "    box-shadow: 0 1px 2px rgba(60, 64, 67, 0.3), 0 1px 3px 1px rgba(60, 64, 67, 0.15);\n",
              "    fill: var(--button-hover-fill-color);\n",
              "  }\n",
              "\n",
              "  .colab-df-quickchart-complete:disabled,\n",
              "  .colab-df-quickchart-complete:disabled:hover {\n",
              "    background-color: var(--disabled-bg-color);\n",
              "    fill: var(--disabled-fill-color);\n",
              "    box-shadow: none;\n",
              "  }\n",
              "\n",
              "  .colab-df-spinner {\n",
              "    border: 2px solid var(--fill-color);\n",
              "    border-color: transparent;\n",
              "    border-bottom-color: var(--fill-color);\n",
              "    animation:\n",
              "      spin 1s steps(1) infinite;\n",
              "  }\n",
              "\n",
              "  @keyframes spin {\n",
              "    0% {\n",
              "      border-color: transparent;\n",
              "      border-bottom-color: var(--fill-color);\n",
              "      border-left-color: var(--fill-color);\n",
              "    }\n",
              "    20% {\n",
              "      border-color: transparent;\n",
              "      border-left-color: var(--fill-color);\n",
              "      border-top-color: var(--fill-color);\n",
              "    }\n",
              "    30% {\n",
              "      border-color: transparent;\n",
              "      border-left-color: var(--fill-color);\n",
              "      border-top-color: var(--fill-color);\n",
              "      border-right-color: var(--fill-color);\n",
              "    }\n",
              "    40% {\n",
              "      border-color: transparent;\n",
              "      border-right-color: var(--fill-color);\n",
              "      border-top-color: var(--fill-color);\n",
              "    }\n",
              "    60% {\n",
              "      border-color: transparent;\n",
              "      border-right-color: var(--fill-color);\n",
              "    }\n",
              "    80% {\n",
              "      border-color: transparent;\n",
              "      border-right-color: var(--fill-color);\n",
              "      border-bottom-color: var(--fill-color);\n",
              "    }\n",
              "    90% {\n",
              "      border-color: transparent;\n",
              "      border-bottom-color: var(--fill-color);\n",
              "    }\n",
              "  }\n",
              "</style>\n",
              "\n",
              "  <script>\n",
              "    async function quickchart(key) {\n",
              "      const quickchartButtonEl =\n",
              "        document.querySelector('#' + key + ' button');\n",
              "      quickchartButtonEl.disabled = true;  // To prevent multiple clicks.\n",
              "      quickchartButtonEl.classList.add('colab-df-spinner');\n",
              "      try {\n",
              "        const charts = await google.colab.kernel.invokeFunction(\n",
              "            'suggestCharts', [key], {});\n",
              "      } catch (error) {\n",
              "        console.error('Error during call to suggestCharts:', error);\n",
              "      }\n",
              "      quickchartButtonEl.classList.remove('colab-df-spinner');\n",
              "      quickchartButtonEl.classList.add('colab-df-quickchart-complete');\n",
              "    }\n",
              "    (() => {\n",
              "      let quickchartButtonEl =\n",
              "        document.querySelector('#df-53ba69f8-034e-4a4f-841e-daeb4ef2ee12 button');\n",
              "      quickchartButtonEl.style.display =\n",
              "        google.colab.kernel.accessAllowed ? 'block' : 'none';\n",
              "    })();\n",
              "  </script>\n",
              "</div>\n",
              "    </div>\n",
              "  </div>\n"
            ],
            "application/vnd.google.colaboratory.intrinsic+json": {
              "type": "dataframe",
              "variable_name": "df",
              "summary": "{\n  \"name\": \"df\",\n  \"rows\": 5,\n  \"fields\": [\n    {\n      \"column\": \"f1\",\n      \"properties\": {\n        \"dtype\": \"number\",\n        \"std\": 3,\n        \"min\": 1,\n        \"max\": 8,\n        \"num_unique_values\": 3,\n        \"samples\": [\n          1,\n          5,\n          8\n        ],\n        \"semantic_type\": \"\",\n        \"description\": \"\"\n      }\n    },\n    {\n      \"column\": \"f2\",\n      \"properties\": {\n        \"dtype\": \"number\",\n        \"std\": 1,\n        \"min\": 1,\n        \"max\": 5,\n        \"num_unique_values\": 5,\n        \"samples\": [\n          5,\n          1,\n          4\n        ],\n        \"semantic_type\": \"\",\n        \"description\": \"\"\n      }\n    },\n    {\n      \"column\": \"f3\",\n      \"properties\": {\n        \"dtype\": \"number\",\n        \"std\": 1,\n        \"min\": 2,\n        \"max\": 6,\n        \"num_unique_values\": 3,\n        \"samples\": [\n          3,\n          6,\n          2\n        ],\n        \"semantic_type\": \"\",\n        \"description\": \"\"\n      }\n    },\n    {\n      \"column\": \"f4\",\n      \"properties\": {\n        \"dtype\": \"number\",\n        \"std\": 2,\n        \"min\": 1,\n        \"max\": 7,\n        \"num_unique_values\": 5,\n        \"samples\": [\n          7,\n          2,\n          3\n        ],\n        \"semantic_type\": \"\",\n        \"description\": \"\"\n      }\n    }\n  ]\n}"
            }
          },
          "metadata": {},
          "execution_count": 1
        }
      ],
      "source": [
        "import numpy as np\n",
        "import pandas as pd\n",
        "from numpy import linalg as LA\n",
        "import matplotlib.pyplot as plt\n",
        "\n",
        "A = np.matrix([[1,2,3,4],\n",
        "               [5,5,6,7],\n",
        "               [1,4,2,3],\n",
        "               [5,3,2,1],\n",
        "               [8,1,2,2]])\n",
        "\n",
        "df = pd.DataFrame(A, columns=['f1','f2','f3','f4'])\n",
        "\n",
        "df"
      ]
    },
    {
      "cell_type": "markdown",
      "source": [
        "# Step 1: Compute Eigenvalues and Eigenvectors"
      ],
      "metadata": {
        "id": "Po0Vbu-BP10x"
      }
    },
    {
      "cell_type": "markdown",
      "source": [
        "The dimension of matrix dataset is **5 x 4** (**non-square matrix**).\n",
        "\n",
        "| | f1 | f2 | f3 | f4 |\n",
        "|-|-|-|-|-|\n",
        "| 0 | 1 | 2 | 3 | 4 |\n",
        "| 1 | 5 | 5 | 6 | 7 |\n",
        "| 2 | 1 | 4 | 2 | 3 |\n",
        "| 3 | 5 | 3 | 2 | 1 |\n",
        "| 4 | 8 | 1 | 2 | 2 |\n",
        "\n",
        "The eigenvalues and eigenvectors cannot be directly computed. Since PCA does not require eigenvalues and eigenvectors, we are going to square the matrix by using its **covariance matrix**, **preserving the variance and covariance of the features in the original dataset**."
      ],
      "metadata": {
        "id": "LwpndvYrW7Nz"
      }
    },
    {
      "cell_type": "markdown",
      "source": [
        "## Step 1.1: Standardize Original Matrix"
      ],
      "metadata": {
        "id": "3fmi0OCRYIv4"
      }
    },
    {
      "cell_type": "code",
      "source": [
        "mean = df.mean()\n",
        "std = df.std()\n",
        "\n",
        "standardized_df = (df - mean) / std\n",
        "\n",
        "print(\"Mean:\\n\", mean)\n",
        "print()\n",
        "print(\"Standard Deviation:\\n\", std)\n",
        "print()\n",
        "print(\"Standardized Dataset:\")\n",
        "standardized_df"
      ],
      "metadata": {
        "colab": {
          "base_uri": "https://localhost:8080/",
          "height": 467
        },
        "id": "COLLbN-HP0FN",
        "outputId": "45388563-e010-4342-cb86-80c5a69a5bd9"
      },
      "execution_count": 2,
      "outputs": [
        {
          "output_type": "stream",
          "name": "stdout",
          "text": [
            "Mean:\n",
            " f1    4.0\n",
            "f2    3.0\n",
            "f3    3.0\n",
            "f4    3.4\n",
            "dtype: float64\n",
            "\n",
            "Standard Deviation:\n",
            " f1    3.000000\n",
            "f2    1.581139\n",
            "f3    1.732051\n",
            "f4    2.302173\n",
            "dtype: float64\n",
            "\n",
            "Standardized Dataset:\n"
          ]
        },
        {
          "output_type": "execute_result",
          "data": {
            "text/plain": [
              "         f1        f2        f3        f4\n",
              "0 -1.000000 -0.632456  0.000000  0.260623\n",
              "1  0.333333  1.264911  1.732051  1.563740\n",
              "2 -1.000000  0.632456 -0.577350 -0.173749\n",
              "3  0.333333  0.000000 -0.577350 -1.042493\n",
              "4  1.333333 -1.264911 -0.577350 -0.608121"
            ],
            "text/html": [
              "\n",
              "  <div id=\"df-fa2e1f15-051c-43f3-9ea3-4c832f6cabcd\" class=\"colab-df-container\">\n",
              "    <div>\n",
              "<style scoped>\n",
              "    .dataframe tbody tr th:only-of-type {\n",
              "        vertical-align: middle;\n",
              "    }\n",
              "\n",
              "    .dataframe tbody tr th {\n",
              "        vertical-align: top;\n",
              "    }\n",
              "\n",
              "    .dataframe thead th {\n",
              "        text-align: right;\n",
              "    }\n",
              "</style>\n",
              "<table border=\"1\" class=\"dataframe\">\n",
              "  <thead>\n",
              "    <tr style=\"text-align: right;\">\n",
              "      <th></th>\n",
              "      <th>f1</th>\n",
              "      <th>f2</th>\n",
              "      <th>f3</th>\n",
              "      <th>f4</th>\n",
              "    </tr>\n",
              "  </thead>\n",
              "  <tbody>\n",
              "    <tr>\n",
              "      <th>0</th>\n",
              "      <td>-1.000000</td>\n",
              "      <td>-0.632456</td>\n",
              "      <td>0.000000</td>\n",
              "      <td>0.260623</td>\n",
              "    </tr>\n",
              "    <tr>\n",
              "      <th>1</th>\n",
              "      <td>0.333333</td>\n",
              "      <td>1.264911</td>\n",
              "      <td>1.732051</td>\n",
              "      <td>1.563740</td>\n",
              "    </tr>\n",
              "    <tr>\n",
              "      <th>2</th>\n",
              "      <td>-1.000000</td>\n",
              "      <td>0.632456</td>\n",
              "      <td>-0.577350</td>\n",
              "      <td>-0.173749</td>\n",
              "    </tr>\n",
              "    <tr>\n",
              "      <th>3</th>\n",
              "      <td>0.333333</td>\n",
              "      <td>0.000000</td>\n",
              "      <td>-0.577350</td>\n",
              "      <td>-1.042493</td>\n",
              "    </tr>\n",
              "    <tr>\n",
              "      <th>4</th>\n",
              "      <td>1.333333</td>\n",
              "      <td>-1.264911</td>\n",
              "      <td>-0.577350</td>\n",
              "      <td>-0.608121</td>\n",
              "    </tr>\n",
              "  </tbody>\n",
              "</table>\n",
              "</div>\n",
              "    <div class=\"colab-df-buttons\">\n",
              "\n",
              "  <div class=\"colab-df-container\">\n",
              "    <button class=\"colab-df-convert\" onclick=\"convertToInteractive('df-fa2e1f15-051c-43f3-9ea3-4c832f6cabcd')\"\n",
              "            title=\"Convert this dataframe to an interactive table.\"\n",
              "            style=\"display:none;\">\n",
              "\n",
              "  <svg xmlns=\"http://www.w3.org/2000/svg\" height=\"24px\" viewBox=\"0 -960 960 960\">\n",
              "    <path d=\"M120-120v-720h720v720H120Zm60-500h600v-160H180v160Zm220 220h160v-160H400v160Zm0 220h160v-160H400v160ZM180-400h160v-160H180v160Zm440 0h160v-160H620v160ZM180-180h160v-160H180v160Zm440 0h160v-160H620v160Z\"/>\n",
              "  </svg>\n",
              "    </button>\n",
              "\n",
              "  <style>\n",
              "    .colab-df-container {\n",
              "      display:flex;\n",
              "      gap: 12px;\n",
              "    }\n",
              "\n",
              "    .colab-df-convert {\n",
              "      background-color: #E8F0FE;\n",
              "      border: none;\n",
              "      border-radius: 50%;\n",
              "      cursor: pointer;\n",
              "      display: none;\n",
              "      fill: #1967D2;\n",
              "      height: 32px;\n",
              "      padding: 0 0 0 0;\n",
              "      width: 32px;\n",
              "    }\n",
              "\n",
              "    .colab-df-convert:hover {\n",
              "      background-color: #E2EBFA;\n",
              "      box-shadow: 0px 1px 2px rgba(60, 64, 67, 0.3), 0px 1px 3px 1px rgba(60, 64, 67, 0.15);\n",
              "      fill: #174EA6;\n",
              "    }\n",
              "\n",
              "    .colab-df-buttons div {\n",
              "      margin-bottom: 4px;\n",
              "    }\n",
              "\n",
              "    [theme=dark] .colab-df-convert {\n",
              "      background-color: #3B4455;\n",
              "      fill: #D2E3FC;\n",
              "    }\n",
              "\n",
              "    [theme=dark] .colab-df-convert:hover {\n",
              "      background-color: #434B5C;\n",
              "      box-shadow: 0px 1px 3px 1px rgba(0, 0, 0, 0.15);\n",
              "      filter: drop-shadow(0px 1px 2px rgba(0, 0, 0, 0.3));\n",
              "      fill: #FFFFFF;\n",
              "    }\n",
              "  </style>\n",
              "\n",
              "    <script>\n",
              "      const buttonEl =\n",
              "        document.querySelector('#df-fa2e1f15-051c-43f3-9ea3-4c832f6cabcd button.colab-df-convert');\n",
              "      buttonEl.style.display =\n",
              "        google.colab.kernel.accessAllowed ? 'block' : 'none';\n",
              "\n",
              "      async function convertToInteractive(key) {\n",
              "        const element = document.querySelector('#df-fa2e1f15-051c-43f3-9ea3-4c832f6cabcd');\n",
              "        const dataTable =\n",
              "          await google.colab.kernel.invokeFunction('convertToInteractive',\n",
              "                                                    [key], {});\n",
              "        if (!dataTable) return;\n",
              "\n",
              "        const docLinkHtml = 'Like what you see? Visit the ' +\n",
              "          '<a target=\"_blank\" href=https://colab.research.google.com/notebooks/data_table.ipynb>data table notebook</a>'\n",
              "          + ' to learn more about interactive tables.';\n",
              "        element.innerHTML = '';\n",
              "        dataTable['output_type'] = 'display_data';\n",
              "        await google.colab.output.renderOutput(dataTable, element);\n",
              "        const docLink = document.createElement('div');\n",
              "        docLink.innerHTML = docLinkHtml;\n",
              "        element.appendChild(docLink);\n",
              "      }\n",
              "    </script>\n",
              "  </div>\n",
              "\n",
              "\n",
              "<div id=\"df-d6080905-675b-481b-a41c-3a3895b733e3\">\n",
              "  <button class=\"colab-df-quickchart\" onclick=\"quickchart('df-d6080905-675b-481b-a41c-3a3895b733e3')\"\n",
              "            title=\"Suggest charts\"\n",
              "            style=\"display:none;\">\n",
              "\n",
              "<svg xmlns=\"http://www.w3.org/2000/svg\" height=\"24px\"viewBox=\"0 0 24 24\"\n",
              "     width=\"24px\">\n",
              "    <g>\n",
              "        <path d=\"M19 3H5c-1.1 0-2 .9-2 2v14c0 1.1.9 2 2 2h14c1.1 0 2-.9 2-2V5c0-1.1-.9-2-2-2zM9 17H7v-7h2v7zm4 0h-2V7h2v10zm4 0h-2v-4h2v4z\"/>\n",
              "    </g>\n",
              "</svg>\n",
              "  </button>\n",
              "\n",
              "<style>\n",
              "  .colab-df-quickchart {\n",
              "      --bg-color: #E8F0FE;\n",
              "      --fill-color: #1967D2;\n",
              "      --hover-bg-color: #E2EBFA;\n",
              "      --hover-fill-color: #174EA6;\n",
              "      --disabled-fill-color: #AAA;\n",
              "      --disabled-bg-color: #DDD;\n",
              "  }\n",
              "\n",
              "  [theme=dark] .colab-df-quickchart {\n",
              "      --bg-color: #3B4455;\n",
              "      --fill-color: #D2E3FC;\n",
              "      --hover-bg-color: #434B5C;\n",
              "      --hover-fill-color: #FFFFFF;\n",
              "      --disabled-bg-color: #3B4455;\n",
              "      --disabled-fill-color: #666;\n",
              "  }\n",
              "\n",
              "  .colab-df-quickchart {\n",
              "    background-color: var(--bg-color);\n",
              "    border: none;\n",
              "    border-radius: 50%;\n",
              "    cursor: pointer;\n",
              "    display: none;\n",
              "    fill: var(--fill-color);\n",
              "    height: 32px;\n",
              "    padding: 0;\n",
              "    width: 32px;\n",
              "  }\n",
              "\n",
              "  .colab-df-quickchart:hover {\n",
              "    background-color: var(--hover-bg-color);\n",
              "    box-shadow: 0 1px 2px rgba(60, 64, 67, 0.3), 0 1px 3px 1px rgba(60, 64, 67, 0.15);\n",
              "    fill: var(--button-hover-fill-color);\n",
              "  }\n",
              "\n",
              "  .colab-df-quickchart-complete:disabled,\n",
              "  .colab-df-quickchart-complete:disabled:hover {\n",
              "    background-color: var(--disabled-bg-color);\n",
              "    fill: var(--disabled-fill-color);\n",
              "    box-shadow: none;\n",
              "  }\n",
              "\n",
              "  .colab-df-spinner {\n",
              "    border: 2px solid var(--fill-color);\n",
              "    border-color: transparent;\n",
              "    border-bottom-color: var(--fill-color);\n",
              "    animation:\n",
              "      spin 1s steps(1) infinite;\n",
              "  }\n",
              "\n",
              "  @keyframes spin {\n",
              "    0% {\n",
              "      border-color: transparent;\n",
              "      border-bottom-color: var(--fill-color);\n",
              "      border-left-color: var(--fill-color);\n",
              "    }\n",
              "    20% {\n",
              "      border-color: transparent;\n",
              "      border-left-color: var(--fill-color);\n",
              "      border-top-color: var(--fill-color);\n",
              "    }\n",
              "    30% {\n",
              "      border-color: transparent;\n",
              "      border-left-color: var(--fill-color);\n",
              "      border-top-color: var(--fill-color);\n",
              "      border-right-color: var(--fill-color);\n",
              "    }\n",
              "    40% {\n",
              "      border-color: transparent;\n",
              "      border-right-color: var(--fill-color);\n",
              "      border-top-color: var(--fill-color);\n",
              "    }\n",
              "    60% {\n",
              "      border-color: transparent;\n",
              "      border-right-color: var(--fill-color);\n",
              "    }\n",
              "    80% {\n",
              "      border-color: transparent;\n",
              "      border-right-color: var(--fill-color);\n",
              "      border-bottom-color: var(--fill-color);\n",
              "    }\n",
              "    90% {\n",
              "      border-color: transparent;\n",
              "      border-bottom-color: var(--fill-color);\n",
              "    }\n",
              "  }\n",
              "</style>\n",
              "\n",
              "  <script>\n",
              "    async function quickchart(key) {\n",
              "      const quickchartButtonEl =\n",
              "        document.querySelector('#' + key + ' button');\n",
              "      quickchartButtonEl.disabled = true;  // To prevent multiple clicks.\n",
              "      quickchartButtonEl.classList.add('colab-df-spinner');\n",
              "      try {\n",
              "        const charts = await google.colab.kernel.invokeFunction(\n",
              "            'suggestCharts', [key], {});\n",
              "      } catch (error) {\n",
              "        console.error('Error during call to suggestCharts:', error);\n",
              "      }\n",
              "      quickchartButtonEl.classList.remove('colab-df-spinner');\n",
              "      quickchartButtonEl.classList.add('colab-df-quickchart-complete');\n",
              "    }\n",
              "    (() => {\n",
              "      let quickchartButtonEl =\n",
              "        document.querySelector('#df-d6080905-675b-481b-a41c-3a3895b733e3 button');\n",
              "      quickchartButtonEl.style.display =\n",
              "        google.colab.kernel.accessAllowed ? 'block' : 'none';\n",
              "    })();\n",
              "  </script>\n",
              "</div>\n",
              "    </div>\n",
              "  </div>\n"
            ],
            "application/vnd.google.colaboratory.intrinsic+json": {
              "type": "dataframe",
              "variable_name": "standardized_df",
              "summary": "{\n  \"name\": \"standardized_df\",\n  \"rows\": 5,\n  \"fields\": [\n    {\n      \"column\": \"f1\",\n      \"properties\": {\n        \"dtype\": \"number\",\n        \"std\": 1.0,\n        \"min\": -1.0,\n        \"max\": 1.3333333333333333,\n        \"num_unique_values\": 3,\n        \"samples\": [\n          -1.0,\n          0.3333333333333333,\n          1.3333333333333333\n        ],\n        \"semantic_type\": \"\",\n        \"description\": \"\"\n      }\n    },\n    {\n      \"column\": \"f2\",\n      \"properties\": {\n        \"dtype\": \"number\",\n        \"std\": 1.0,\n        \"min\": -1.2649110640673518,\n        \"max\": 1.2649110640673518,\n        \"num_unique_values\": 5,\n        \"samples\": [\n          1.2649110640673518,\n          -1.2649110640673518,\n          0.6324555320336759\n        ],\n        \"semantic_type\": \"\",\n        \"description\": \"\"\n      }\n    },\n    {\n      \"column\": \"f3\",\n      \"properties\": {\n        \"dtype\": \"number\",\n        \"std\": 1.0,\n        \"min\": -0.5773502691896258,\n        \"max\": 1.7320508075688774,\n        \"num_unique_values\": 3,\n        \"samples\": [\n          0.0,\n          1.7320508075688774,\n          -0.5773502691896258\n        ],\n        \"semantic_type\": \"\",\n        \"description\": \"\"\n      }\n    },\n    {\n      \"column\": \"f4\",\n      \"properties\": {\n        \"dtype\": \"number\",\n        \"std\": 0.9999999999999998,\n        \"min\": -1.0424933826313663,\n        \"max\": 1.5637400739470495,\n        \"num_unique_values\": 5,\n        \"samples\": [\n          1.5637400739470495,\n          -0.608121139868297,\n          -0.1737488971052277\n        ],\n        \"semantic_type\": \"\",\n        \"description\": \"\"\n      }\n    }\n  ]\n}"
            }
          },
          "metadata": {},
          "execution_count": 2
        }
      ]
    },
    {
      "cell_type": "markdown",
      "source": [
        "## Step 1.2: Compute Covariance Matrix"
      ],
      "metadata": {
        "id": "dUkVwTbdZTw0"
      }
    },
    {
      "cell_type": "markdown",
      "source": [
        "`standardized_df`:\n",
        "\n",
        "| | f1 | f2 | f3 | f4 |\n",
        "|-|-|-|-|-|\n",
        "| 0 | a | b | c | d |\n",
        "| 1 | e | f | g | h |\n",
        "| 2 | i | j | k | l |\n",
        "| 3 | m | n | o | p |\n",
        "| 4 | q | r | s | t |\n",
        "\n",
        "`standardized_df.T`:\n",
        "\n",
        "| | 0 | 1 | 2 | 3 | 4 |\n",
        "|-|-|-|-|-|-|\n",
        "| f1 | a | e | i | m | q |\n",
        "| f2 | b | f | j | n | r |\n",
        "| f3 | c | g | k | o | s |\n",
        "| f4 | d | h | l | p | t |\n",
        "\n",
        "Multiplication of `standardized_df.T` and `standardized_df`:\n",
        "\n",
        "| | | | |\n",
        "|-|-|-|-|\n",
        "|`a*a + e*e + i*i + m*m + q*q`|`ab + ef + ij + mn + qr`|`ac + eg + ik + mo + qs`|`ad + eh + il + mp + qt`|\n",
        "|`ab + ef + ij + mn + qr`|`a*a + e*e + i*i + m*m + q*q`|`bc + fg + jk + no + rs`|`bd + fh + jl + np + rt`|\n",
        "|`ac + eg + ik + mo + qs`|`bc + fg + jk + no + rs`|`a*a + e*e + i*i + m*m + q*q`|`cd + gh + kl + op + st`|\n",
        "|`ad + eh + il + mp + qt`|`bd + fh + jl + np + rt`|`cd + gh + kl + op + st`|`a*a + e*e + i*i + m*m + q*q`|"
      ],
      "metadata": {
        "id": "WvFZYQmyKAJN"
      }
    },
    {
      "cell_type": "code",
      "source": [
        "cov_matrix = (standardized_df.T @ standardized_df) / standardized_df.shape[0]\n",
        "\n",
        "print(\"Covariance Matrix:\\n\", cov_matrix)"
      ],
      "metadata": {
        "colab": {
          "base_uri": "https://localhost:8080/"
        },
        "id": "EVN2ZtGPZdCF",
        "outputId": "21956d28-2e91-484a-ba98-30818add6ad7"
      },
      "execution_count": 3,
      "outputs": [
        {
          "output_type": "stream",
          "name": "stdout",
          "text": [
            "Covariance Matrix:\n",
            "           f1        f2        f3        f4\n",
            "f1  0.800000 -0.252982  0.038490 -0.144791\n",
            "f2 -0.252982  0.800000  0.511208  0.494498\n",
            "f3  0.038490  0.511208  0.800000  0.752355\n",
            "f4 -0.144791  0.494498  0.752355  0.800000\n"
          ]
        }
      ]
    },
    {
      "cell_type": "markdown",
      "source": [
        "## Step 1.3: Compute Eigenvalues and Eigenvectors of Covariance Matrix"
      ],
      "metadata": {
        "id": "z-h5t5R6ZwSJ"
      }
    },
    {
      "cell_type": "code",
      "source": [
        "eigenvalues, eigenvectors = LA.eigh(cov_matrix)\n",
        "\n",
        "print(\"Eigenvalues:\", eigenvalues)\n",
        "print(\"Eigenvectors:\\n\", eigenvectors)"
      ],
      "metadata": {
        "colab": {
          "base_uri": "https://localhost:8080/"
        },
        "id": "qtyLlrWbZ5Xb",
        "outputId": "8f1c87fe-7ccf-4229-98f1-979c7b28f236"
      },
      "execution_count": 4,
      "outputs": [
        {
          "output_type": "stream",
          "name": "stdout",
          "text": [
            "Eigenvalues: [0.02002497 0.31510964 0.8522308  2.01263459]\n",
            "Eigenvectors:\n",
            " [[-0.19616173 -0.30707099  0.91705888 -0.16195986]\n",
            " [-0.12061043 -0.81731886 -0.20692161  0.52404813]\n",
            " [ 0.72009851  0.1882497   0.3205394   0.58589647]\n",
            " [-0.65454704  0.44973251  0.11593512  0.59654663]]\n"
          ]
        }
      ]
    },
    {
      "cell_type": "markdown",
      "source": [
        "Each eigenvalue corresponds to the eigenvector at the same position (**same column**)."
      ],
      "metadata": {
        "id": "6HuEwRYevpit"
      }
    },
    {
      "cell_type": "markdown",
      "source": [
        "# Step 2: Sort Eigenvalues and Corresponding Eigenvectors"
      ],
      "metadata": {
        "id": "6CMOy85wP8Z6"
      }
    },
    {
      "cell_type": "code",
      "source": [
        "sorted_indices = np.argsort(eigenvalues)[::-1]\n",
        "eigenvalues = eigenvalues[sorted_indices]\n",
        "eigenvectors = eigenvectors[:, sorted_indices]\n",
        "\n",
        "print(\"Sorted Eigenvalues:\", eigenvalues)\n",
        "print(\"Sorted Eigenvectors:\\n\", eigenvectors)"
      ],
      "metadata": {
        "colab": {
          "base_uri": "https://localhost:8080/"
        },
        "id": "kyMdZFk5SNj7",
        "outputId": "950f0f8e-03e8-4ecc-b03b-dbc994a4cdd9"
      },
      "execution_count": 5,
      "outputs": [
        {
          "output_type": "stream",
          "name": "stdout",
          "text": [
            "Sorted Eigenvalues: [2.01263459 0.8522308  0.31510964 0.02002497]\n",
            "Sorted Eigenvectors:\n",
            " [[-0.16195986  0.91705888 -0.30707099 -0.19616173]\n",
            " [ 0.52404813 -0.20692161 -0.81731886 -0.12061043]\n",
            " [ 0.58589647  0.3205394   0.1882497   0.72009851]\n",
            " [ 0.59654663  0.11593512  0.44973251 -0.65454704]]\n"
          ]
        }
      ]
    },
    {
      "cell_type": "markdown",
      "source": [
        "Sorting the eigenvalues and their corresponding eigenvectors in **descending order** allows prioritization of directions that capture the **most variance** in the data."
      ],
      "metadata": {
        "id": "6-zBAYOBbran"
      }
    },
    {
      "cell_type": "markdown",
      "source": [
        "# Step 3: Compute Error Between Original Matrix and `Back_computed_matrix_transform` (top1 PC Component)"
      ],
      "metadata": {
        "id": "hKBAp7mwh_n4"
      }
    },
    {
      "cell_type": "markdown",
      "source": [
        "## Step 3.1: Transform Original Matrix to Principal Component Space (top1 PC Component)"
      ],
      "metadata": {
        "id": "RW_RH7kXQFEa"
      }
    },
    {
      "cell_type": "code",
      "source": [
        "Matrix_transform = standardized_df @ eigenvectors[:, :1]\n",
        "\n",
        "print(\"top1 Eigenvector:\\n\", eigenvectors[:, :1])\n",
        "print(\"Matrix_transform:\\n\", Matrix_transform)"
      ],
      "metadata": {
        "colab": {
          "base_uri": "https://localhost:8080/"
        },
        "id": "AClITpqsiKXA",
        "outputId": "e2d5d18b-ddc9-4fa8-dca1-b5dd15ae326a"
      },
      "execution_count": 6,
      "outputs": [
        {
          "output_type": "stream",
          "name": "stdout",
          "text": [
            "top1 Eigenvector:\n",
            " [[-0.16195986]\n",
            " [ 0.52404813]\n",
            " [ 0.58589647]\n",
            " [ 0.59654663]]\n",
            "Matrix_transform:\n",
            "           0\n",
            "0 -0.014003\n",
            "1  2.556534\n",
            "2  0.051480\n",
            "3 -1.014150\n",
            "4 -1.579861\n"
          ]
        }
      ]
    },
    {
      "cell_type": "markdown",
      "source": [
        "## Step 3.2: Transform Back `Matrix_transform` to Original Space (`Back_computed_matrix_transform`)"
      ],
      "metadata": {
        "id": "HtHLsHduQygx"
      }
    },
    {
      "cell_type": "code",
      "source": [
        "Back_computed_matrix_transform = (Matrix_transform @ eigenvectors[:, :1].T) * std.values + mean.values\n",
        "\n",
        "print(\"Back_computed_matrix_transform:\\n\", Back_computed_matrix_transform)"
      ],
      "metadata": {
        "colab": {
          "base_uri": "https://localhost:8080/"
        },
        "id": "R-wNCbbBSOUg",
        "outputId": "03a9a67c-910a-4027-fc9f-8304ad7789c1"
      },
      "execution_count": 7,
      "outputs": [
        {
          "output_type": "stream",
          "name": "stdout",
          "text": [
            "Back_computed_matrix_transform:\n",
            "           0         1         2         3\n",
            "0  4.006804  2.988397  2.985789  3.380769\n",
            "1  2.757832  5.118326  5.594377  6.911025\n",
            "2  3.974987  3.042656  3.052242  3.470701\n",
            "3  4.492755  2.159683  1.970838  2.007214\n",
            "4  4.767622  1.690939  1.396753  1.230293\n"
          ]
        }
      ]
    },
    {
      "cell_type": "markdown",
      "source": [
        "## Step 3.3: Compute Error"
      ],
      "metadata": {
        "id": "GvZQdGdbRe9g"
      }
    },
    {
      "cell_type": "code",
      "source": [
        "errors = []\n",
        "error = LA.norm(A - Back_computed_matrix_transform, ord='fro')\n",
        "errors.append(error)\n",
        "\n",
        "print(\"Error:\", error)"
      ],
      "metadata": {
        "colab": {
          "base_uri": "https://localhost:8080/"
        },
        "id": "MkGsmkKsSOtf",
        "outputId": "58d9aeec-3fe7-46e8-e4cc-f3211f8f39b4"
      },
      "execution_count": 8,
      "outputs": [
        {
          "output_type": "stream",
          "name": "stdout",
          "text": [
            "Error: 6.3696010484138545\n"
          ]
        }
      ]
    },
    {
      "cell_type": "markdown",
      "source": [
        "# Step 4: Repeat Step 3 using top2, top3 and top4 PC Components"
      ],
      "metadata": {
        "id": "0IcbiCLAR9Oi"
      }
    },
    {
      "cell_type": "code",
      "source": [
        "for k in range(1, eigenvalues.shape[0]):\n",
        "  Matrix_transform = standardized_df @ eigenvectors[:, :k+1]\n",
        "  Back_computed_matrix_transform = (Matrix_transform @ eigenvectors[:, :k+1].T) * std.values + mean.values\n",
        "  error = LA.norm(A - Back_computed_matrix_transform, ord='fro')\n",
        "  errors.append(error)\n",
        "  print(f\"top{k+1} Eigenvector:\\n\", eigenvectors[:, :k+1])\n",
        "  print(\"Matrix_transform:\\n\", Matrix_transform)\n",
        "  print(\"Back_computed_matrix_transform:\\n\", Back_computed_matrix_transform)\n",
        "  print(\"Error:\\n\", error)\n",
        "  print()\n",
        "\n",
        "print(\"Errors:\\n\", errors)"
      ],
      "metadata": {
        "colab": {
          "base_uri": "https://localhost:8080/"
        },
        "id": "_kH0ebkaotqQ",
        "outputId": "54f4e86c-bc98-49a9-c222-d4c48e246186"
      },
      "execution_count": 9,
      "outputs": [
        {
          "output_type": "stream",
          "name": "stdout",
          "text": [
            "top2 Eigenvector:\n",
            " [[-0.16195986  0.91705888]\n",
            " [ 0.52404813 -0.20692161]\n",
            " [ 0.58589647  0.3205394 ]\n",
            " [ 0.59654663  0.11593512]]\n",
            "Matrix_transform:\n",
            "           0         1\n",
            "0 -0.014003 -0.755975\n",
            "1  2.556534  0.780432\n",
            "2  0.051480 -1.253135\n",
            "3 -1.014150 -0.000239\n",
            "4 -1.579861  1.228917\n",
            "Back_computed_matrix_transform:\n",
            "           0         1         2         3\n",
            "0  1.926984  3.235731  2.566079  3.178997\n",
            "1  4.904938  4.862991  6.027665  7.119324\n",
            "2  0.527392  3.452646  2.356514  3.136235\n",
            "3  4.492098  2.159761  1.970705  2.007150\n",
            "4  8.148588  1.288872  2.079036  1.558294\n",
            "Error:\n",
            " 2.499228507404052\n",
            "\n",
            "top3 Eigenvector:\n",
            " [[-0.16195986  0.91705888 -0.30707099]\n",
            " [ 0.52404813 -0.20692161 -0.81731886]\n",
            " [ 0.58589647  0.3205394   0.1882497 ]\n",
            " [ 0.59654663  0.11593512  0.44973251]]\n",
            "Matrix_transform:\n",
            "           0         1         2\n",
            "0 -0.014003 -0.755975  0.941200\n",
            "1  2.556534  0.780432 -0.106870\n",
            "2  0.051480 -1.253135 -0.396673\n",
            "3 -1.014150 -0.000239 -0.679886\n",
            "4 -1.579861  1.228917  0.242230\n",
            "Back_computed_matrix_transform:\n",
            "           0         1         2         3\n",
            "0  1.059939  2.019423  2.872965  4.153479\n",
            "1  5.003388  5.001098  5.992820  7.008675\n",
            "2  0.892813  3.965265  2.227175  2.725535\n",
            "3  5.118418  3.038374  1.749023  1.303221\n",
            "4  7.925443  0.975839  2.158017  1.809089\n",
            "Error:\n",
            " 0.6491726395809214\n",
            "\n",
            "top4 Eigenvector:\n",
            " [[-0.16195986  0.91705888 -0.30707099 -0.19616173]\n",
            " [ 0.52404813 -0.20692161 -0.81731886 -0.12061043]\n",
            " [ 0.58589647  0.3205394   0.1882497   0.72009851]\n",
            " [ 0.59654663  0.11593512  0.44973251 -0.65454704]]\n",
            "Matrix_transform:\n",
            "           0         1         2         3\n",
            "0 -0.014003 -0.755975  0.941200  0.101852\n",
            "1  2.556534  0.780432 -0.106870  0.005757\n",
            "2  0.051480 -1.253135 -0.396673 -0.182141\n",
            "3 -1.014150 -0.000239 -0.679886  0.201225\n",
            "4 -1.579861  1.228917  0.242230 -0.126693\n",
            "Back_computed_matrix_transform:\n",
            "      0    1    2    3\n",
            "0  1.0  2.0  3.0  4.0\n",
            "1  5.0  5.0  6.0  7.0\n",
            "2  1.0  4.0  2.0  3.0\n",
            "3  5.0  3.0  2.0  1.0\n",
            "4  8.0  1.0  2.0  2.0\n",
            "Error:\n",
            " 5.9332046901727276e-15\n",
            "\n",
            "Errors:\n",
            " [6.3696010484138545, 2.499228507404052, 0.6491726395809214, 5.9332046901727276e-15]\n"
          ]
        }
      ]
    },
    {
      "cell_type": "markdown",
      "source": [
        "# Step 5: Plot Error vs. K-Principal Component"
      ],
      "metadata": {
        "id": "lLsD_wh1SarD"
      }
    },
    {
      "cell_type": "code",
      "source": [
        "plt.figure()\n",
        "plt.plot(range(1, A.shape[1] + 1), errors, marker='o')\n",
        "plt.xlabel('Number of Principal Components (k)')\n",
        "plt.ylabel('Reconstruction Error (Frobenius norm)')\n",
        "plt.title('Reconstruction Error vs. Number of Principal Components')\n",
        "plt.grid(True)\n",
        "plt.show()"
      ],
      "metadata": {
        "colab": {
          "base_uri": "https://localhost:8080/",
          "height": 472
        },
        "id": "dA0YSGAQn-7V",
        "outputId": "e27c70ae-ebb0-4b09-b716-eaac1d4f7c09"
      },
      "execution_count": 10,
      "outputs": [
        {
          "output_type": "display_data",
          "data": {
            "text/plain": [
              "<Figure size 640x480 with 1 Axes>"
            ],
            "image/png": "[encoded data removed]"
          },
          "metadata": {}
        }
      ]
    },
    {
      "cell_type": "markdown",
      "source": [
        "Adding **more** principal components allows for a **more accurate** representation of the original data.\n",
        "\n",
        "When you reconstruct the data using PCA, you're essentially approximating the original data matrix by multiplying the principal component matrix by its transpose and then denormalize it. Mathematically, this process can be written as:\n",
        "```\n",
        "Matrix_transform = standardized_df @ eigenvectors[:, :k+1]\n",
        "Back_computed_matrix_transform = (Matrix_transform @ eigenvectors[:, :k+1].T) * std.values + mean.values\n",
        "```\n",
        "\n",
        "As 𝑘 increases, you're including more principal components in the reconstruction process. Each additional principal component captures additional variation in the data that was not captured by the previous components. Therefore, the reconstructed data becomes closer to the original data, resulting in a lower reconstruction error.\n",
        "\n",
        "In other words, by increasing 𝑘, you're using more information from the original data to reconstruct it. This typically leads to a reduction in reconstruction error because you're better approximating the original data's structure and variability. However, it's important to note that adding too many principal components can lead to overfitting and may not necessarily improve the performance of your model. The optimal choice of 𝑘 depends on the specific application and the desired balance between accuracy and simplicity."
      ],
      "metadata": {
        "id": "OZjEaTrJsLL7"
      }
    }
  ]
}