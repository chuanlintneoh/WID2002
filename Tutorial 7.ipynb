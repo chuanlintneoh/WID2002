{
 "cells": [
  {
   "cell_type": "code",
   "execution_count": 1,
   "metadata": {},
   "outputs": [
    {
     "name": "stdout",
     "output_type": "stream",
     "text": [
      "a. 3u - 4v = [ 18 -21 -13]\n",
      "b. 2u + 3v - 5w = [ -5 -39  54]\n"
     ]
    }
   ],
   "source": [
    "# Question 1\n",
    "\n",
    "import numpy as np\n",
    "\n",
    "u = np.array([2, -7, 1])\n",
    "v = np.array([-3, 0, 4])\n",
    "w = np.array([0, 5, -8])\n",
    "\n",
    "a = 3*u - 4*v\n",
    "b = 2*u + 3*v - 5*w\n",
    "\n",
    "print(\"a. 3u - 4v =\", a)\n",
    "print(\"b. 2u + 3v - 5w =\", b)"
   ]
  },
  {
   "cell_type": "code",
   "execution_count": 2,
   "metadata": {},
   "outputs": [
    {
     "name": "stdout",
     "output_type": "stream",
     "text": [
      "a:\n",
      "[[ 4  6 -2]\n",
      " [ 4 -3 -5]]\n",
      "\n",
      "b: Operation does not exist.\n",
      "\n",
      "c:\n",
      "[[ 5  2]\n",
      " [ 6 -6]\n",
      " [-1 -3]]\n",
      "\n",
      "d: Operation does not exist.\n",
      "\n",
      "e:\n",
      "[[ 1.  2.]\n",
      " [ 2.  0.]\n",
      " [-1.  1.]]\n",
      "\n",
      "f:\n",
      "[[ -5  10 -15]\n",
      " [ 30  30  15]]\n",
      "\n",
      "g:\n",
      "[[  9  22]\n",
      " [ 20   3]\n",
      " [-11   8]]\n",
      "\n",
      "h:\n",
      "[[ 2  2  0]\n",
      " [ 0 -3 -7]]\n",
      "\n",
      "i:\n",
      "[[  0   0   0]\n",
      " [  0   0 -20]]\n",
      "\n"
     ]
    }
   ],
   "source": [
    "# Question 4\n",
    "\n",
    "import numpy as np\n",
    "\n",
    "A = np.array([[1, 4, -3], [6, 3, 0]])\n",
    "B = np.array([[3, 2, 1], [-2, -6, -5]])\n",
    "C = np.array([[2, 4], [4, 0], [-2, 2]])\n",
    "\n",
    "alpha = 4\n",
    "beta = 1/2\n",
    "\n",
    "operations = {\n",
    "    \"a\": lambda: A + B,\n",
    "    \"b\": lambda: A + C,\n",
    "    \"c\": lambda: np.transpose(B) + C,\n",
    "    \"d\": lambda: A + np.transpose(B),\n",
    "    \"e\": lambda: beta*C,\n",
    "    \"f\": lambda: 4*A - 3*B,\n",
    "    \"g\": lambda: np.transpose(A) + alpha*C,\n",
    "    \"h\": lambda: A + B - np.transpose(C),\n",
    "    \"i\": lambda: 4*A + 2*B - 5*np.transpose(C)\n",
    "}\n",
    "\n",
    "def performOperation(operation):\n",
    "    try:\n",
    "        result = operation()\n",
    "    except ValueError as e:\n",
    "        result = None\n",
    "    return result\n",
    "\n",
    "def print_result(result, operation_name):\n",
    "    if result is not None:\n",
    "        print(f\"{operation_name}:\")\n",
    "        print(result)\n",
    "        print()\n",
    "    else:\n",
    "        print(f\"{operation_name}: Operation does not exist.\")\n",
    "        print()\n",
    "\n",
    "for operation_name, operation in operations.items():\n",
    "    result = performOperation(operation)\n",
    "    print_result(result, operation_name)"
   ]
  },
  {
   "cell_type": "code",
   "execution_count": 3,
   "metadata": {},
   "outputs": [
    {
     "name": "stdout",
     "output_type": "stream",
     "text": [
      "Determinant of matrix A:\n",
      "-16\n",
      "\n",
      "Determinant of matrix B:\n",
      "70\n",
      "\n"
     ]
    }
   ],
   "source": [
    "# Question 5\n",
    "\n",
    "import sympy as sp\n",
    "\n",
    "A = sp.Matrix([[1, 3], [6, 2]])\n",
    "B = sp.Matrix([[-2, 3, -2], [-4, -2, 1], [2, 4, 2]])\n",
    "\n",
    "det_A = A.det()\n",
    "det_B = B.det()\n",
    "\n",
    "print(\"Determinant of matrix A:\")\n",
    "print(det_A)\n",
    "print()\n",
    "\n",
    "print(\"Determinant of matrix B:\")\n",
    "print(det_B)\n",
    "print()"
   ]
  },
  {
   "cell_type": "code",
   "execution_count": 4,
   "metadata": {},
   "outputs": [
    {
     "name": "stdout",
     "output_type": "stream",
     "text": [
      "Inverse of matrix A: Matrix([[-2, 1, 1], [-1, 1, 0], [3, -1, -1]])\n",
      "Inverse of matrix B: Matrix([[0, -1/2, 1/2], [1, -1/2, -1/2], [-2, 2, 1]])\n"
     ]
    }
   ],
   "source": [
    "# Question 8\n",
    "\n",
    "import sympy as sp\n",
    "\n",
    "A = sp.Matrix([[1, 0, 1], [1, 1, 1], [2, -1, 1]])\n",
    "B = sp.Matrix([[1, 3, 1], [0, 2, 1], [2, 2, 1]])\n",
    "\n",
    "if (A.det() == 0):\n",
    "  print(\"Matrix A is singular.\")\n",
    "else:\n",
    "  print(\"Inverse of matrix A:\", A.inv())\n",
    "\n",
    "if (B.det() == 0):\n",
    "  print(\"Matrix B is singular.\")\n",
    "else:\n",
    "  print(\"Inverse of matrix B:\", B.inv())"
   ]
  },
  {
   "cell_type": "code",
   "execution_count": 5,
   "metadata": {},
   "outputs": [
    {
     "name": "stdout",
     "output_type": "stream",
     "text": [
      "Solution to the system of equations:\n",
      "Matrix([[46], [79], [19]])\n"
     ]
    }
   ],
   "source": [
    "# Question 9\n",
    "\n",
    "import sympy as sp\n",
    "\n",
    "x1, x2, x3  = sp.symbols('x1 x2 x3')\n",
    "\n",
    "M = sp.Matrix([[1, -1, 2], [1, 0, -2], [2, -1, -1]])\n",
    "A = sp.Matrix([5, 8, -6])\n",
    "\n",
    "if (M.det() == 0):\n",
    "  print(\"Matrix M is singular. Question has no solution.\")\n",
    "else:\n",
    "  solution = M.inv() * A\n",
    "  print(\"Solution to the system of equations:\")\n",
    "  print(solution)"
   ]
  }
 ],
 "metadata": {
  "kernelspec": {
   "display_name": "Python 3",
   "language": "python",
   "name": "python3"
  },
  "language_info": {
   "codemirror_mode": {
    "name": "ipython",
    "version": 3
   },
   "file_extension": ".py",
   "mimetype": "text/x-python",
   "name": "python",
   "nbconvert_exporter": "python",
   "pygments_lexer": "ipython3",
   "version": "3.11.3"
  }
 },
 "nbformat": 4,
 "nbformat_minor": 2
}
